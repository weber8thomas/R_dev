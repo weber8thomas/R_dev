{
 "cells": [
  {
   "cell_type": "code",
   "execution_count": null,
   "metadata": {
    "vscode": {
     "languageId": "r"
    }
   },
   "outputs": [],
   "source": []
  },
  {
   "cell_type": "code",
   "execution_count": 1,
   "metadata": {
    "vscode": {
     "languageId": "r"
    }
   },
   "outputs": [
    {
     "name": "stderr",
     "output_type": "stream",
     "text": [
      "Loading required package: RIdeogram\n",
      "\n"
     ]
    }
   ],
   "source": [
    "require(RIdeogram)\n",
    "data(human_karyotype, package = \"RIdeogram\")\n",
    "data(gene_density, package = \"RIdeogram\")\n",
    "data(Random_RNAs_500, package = \"RIdeogram\")\n"
   ]
  },
  {
   "cell_type": "code",
   "execution_count": 4,
   "metadata": {
    "vscode": {
     "languageId": "r"
    }
   },
   "outputs": [],
   "source": [
    "ideogram(karyotype = human_karyotype, overlaid = gene_density, label = Random_RNAs_500, label_type = \"marker\")\n",
    "# convertSVG(svg, file=\"chromosome2.svg\", device = \"png\", dpi=50)\n",
    "# svg"
   ]
  },
  {
   "cell_type": "code",
   "execution_count": 7,
   "metadata": {
    "vscode": {
     "languageId": "r"
    }
   },
   "outputs": [
    {
     "ename": "ERROR",
     "evalue": "Error in read_data(svg): Argument 'svg' or 'css' must be a file path, url, or raw vector.\n",
     "output_type": "error",
     "traceback": [
      "Error in read_data(svg): Argument 'svg' or 'css' must be a file path, url, or raw vector.\nTraceback:\n",
      "1. convertSVG(\"chromosome.svg\", device = \"png\")",
      "2. rsvg::rsvg_svg(svg, f)",
      "3. rsvg_format(svg, file, width = width, height = height, css = css, \n .     format = 3L)",
      "4. read_data(svg)",
      "5. stop(\"Argument 'svg' or 'css' must be a file path, url, or raw vector.\")"
     ]
    }
   ],
   "source": [
    "ideogram(karyotype = human_karyotype, overlaid = gene_density, label = Random_RNAs_500, label_type = \"marker\", colorset1 = c(\"#fc8d59\", \"#ffffbf\", \"#91bfdb\"))\n",
    "convertSVG(\"chromosome.svg\", device = \"png\", dpi=50)"
   ]
  },
  {
   "cell_type": "code",
   "execution_count": null,
   "metadata": {
    "vscode": {
     "languageId": "r"
    }
   },
   "outputs": [],
   "source": []
  }
 ],
 "metadata": {
  "kernelspec": {
   "display_name": "R",
   "language": "R",
   "name": "ir"
  },
  "language_info": {
   "codemirror_mode": "r",
   "file_extension": ".r",
   "mimetype": "text/x-r-source",
   "name": "R",
   "pygments_lexer": "r",
   "version": "4.2.1"
  },
  "orig_nbformat": 4,
  "vscode": {
   "interpreter": {
    "hash": "e7370f93d1d0cde622a1f8e1c04877d8463912d04d973331ad4851f04de6915a"
   }
  }
 },
 "nbformat": 4,
 "nbformat_minor": 2
}
